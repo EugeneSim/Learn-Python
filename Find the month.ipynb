{
 "cells": [
  {
   "cell_type": "code",
   "execution_count": 4,
   "id": "dac8d791",
   "metadata": {},
   "outputs": [
    {
     "name": "stdout",
     "output_type": "stream",
     "text": [
      "November\n"
     ]
    }
   ],
   "source": [
    "monthConversions = {\n",
    "    \"Jan\" : \"January\"    ,\n",
    "    \"Feb\" : \"February\"   ,\n",
    "    \"Mar\" : \"March\"      ,\n",
    "    \"Apr\" : \"April\"      ,\n",
    "    \"May\" : \"May\"        ,\n",
    "    \"Jun\" : \"June\"       ,\n",
    "    \"Jul\" : \"July\"       ,\n",
    "    \"Aug\" : \"August\"     ,\n",
    "    \"Sep\" : \"September\"  ,\n",
    "    \"Oct\" : \"October\"    ,\n",
    "    \"Nov\" : \"November\"   ,\n",
    "    \"Dec\" : \"December\"   ,\n",
    "}\n",
    "\n",
    "print(monthConversions.get(\"Luv\" , \"Not a valid key\"))"
   ]
  },
  {
   "cell_type": "code",
   "execution_count": null,
   "id": "ef4aad7f",
   "metadata": {},
   "outputs": [],
   "source": []
  }
 ],
 "metadata": {
  "kernelspec": {
   "display_name": "Python 3 (ipykernel)",
   "language": "python",
   "name": "python3"
  },
  "language_info": {
   "codemirror_mode": {
    "name": "ipython",
    "version": 3
   },
   "file_extension": ".py",
   "mimetype": "text/x-python",
   "name": "python",
   "nbconvert_exporter": "python",
   "pygments_lexer": "ipython3",
   "version": "3.9.12"
  }
 },
 "nbformat": 4,
 "nbformat_minor": 5
}
